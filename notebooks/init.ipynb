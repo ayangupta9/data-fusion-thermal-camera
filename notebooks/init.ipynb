{
 "cells": [
  {
   "cell_type": "code",
   "execution_count": null,
   "metadata": {},
   "outputs": [],
   "source": [
    "!pip install pylibtiff"
   ]
  },
  {
   "cell_type": "code",
   "execution_count": 13,
   "metadata": {},
   "outputs": [],
   "source": [
    "import cv2\n",
    "from PIL import Image\n",
    "import os\n",
    "import glob\n",
    "import matplotlib.pyplot as plt\n",
    "import numpy as np\n",
    "from PIL import ExifTags\n",
    "import imageio as io\n",
    "import pandas as pd\n",
    "import yaml\n",
    "import sys\n",
    "from matplotlib import patches\n",
    "from pycocotools import mask as M\n",
    "import tifffile\n",
    "# from libtiff import TIFF\n",
    "\n",
    "sys.path.append('../scripts')\n",
    "import utils"
   ]
  },
  {
   "cell_type": "code",
   "execution_count": 6,
   "metadata": {},
   "outputs": [],
   "source": [
    "img1 = tifffile.imread('../tiff_thermal.tiff')\n",
    "img2 = np.array(Image.open('../thermal2.jpg'))"
   ]
  },
  {
   "cell_type": "code",
   "execution_count": 31,
   "metadata": {},
   "outputs": [],
   "source": [
    "# bw_thermal = Image.open('../../../dataset/bw_thermal.tiff')"
   ]
  },
  {
   "cell_type": "code",
   "execution_count": 23,
   "metadata": {},
   "outputs": [
    {
     "data": {
      "text/plain": [
       "['../../../dataset/attachments\\\\img_thermo_1710240449484.tiff',\n",
       " '../../../dataset/attachments\\\\img_thermo_1710240454797.tiff']"
      ]
     },
     "execution_count": 23,
     "metadata": {},
     "output_type": "execute_result"
    }
   ],
   "source": [
    "thermal_images = glob.glob('../../../dataset/attachments/*.tiff')\n",
    "thermal_images"
   ]
  },
  {
   "cell_type": "code",
   "execution_count": 41,
   "metadata": {},
   "outputs": [
    {
     "name": "stdout",
     "output_type": "stream",
     "text": [
      "uint8\n"
     ]
    }
   ],
   "source": [
    "with Image.open('../../../dataset/bw_thermal.tiff', 'r') as f:"
   ]
  },
  {
   "cell_type": "code",
   "execution_count": 24,
   "metadata": {},
   "outputs": [],
   "source": [
    "tiff_img = Image.open(thermal_images[0], 'r')"
   ]
  },
  {
   "cell_type": "code",
   "execution_count": 29,
   "metadata": {},
   "outputs": [
    {
     "data": {
      "text/plain": [
       "array([[255, 255, 255, ..., 255, 255, 255],\n",
       "       [255, 255, 255, ..., 255, 255, 255],\n",
       "       [255, 255, 255, ..., 255, 255, 255],\n",
       "       ...,\n",
       "       [255, 255, 255, ..., 255, 255, 255],\n",
       "       [255, 255, 255, ..., 255, 255, 255],\n",
       "       [255, 255, 255, ..., 255, 255, 255]], dtype=uint8)"
      ]
     },
     "execution_count": 29,
     "metadata": {},
     "output_type": "execute_result"
    }
   ],
   "source": [
    "tiff_img.getchannel('A')"
   ]
  },
  {
   "cell_type": "code",
   "execution_count": 36,
   "metadata": {},
   "outputs": [
    {
     "name": "stdout",
     "output_type": "stream",
     "text": [
      "256 ImageWidth (320,)\n",
      "257 ImageLength (240,)\n",
      "258 BitsPerSample (8, 8, 8, 8)\n",
      "259 Compression (1,)\n",
      "37500 MakerNote ('e=0.60, tr=25',)\n",
      "262 PhotometricInterpretation (2,)\n",
      "270 ImageDescription ('',)\n",
      "271 Make ('Seek Thermal, Inc.',)\n",
      "272 Model ('CompactPRO FF',)\n",
      "273 StripOffsets (646, 33926, 67206, 100486, 133766, 167046, 200326, 233606, 266886, 300166)\n",
      "338 ExtraSamples (1,)\n",
      "339 SampleFormat (1,)\n",
      "277 SamplesPerPixel (4,)\n",
      "278 RowsPerStrip (26,)\n",
      "279 StripByteCounts (33280, 33280, 33280, 33280, 33280, 33280, 33280, 33280, 33280, 7680)\n",
      "282 XResolution ((72, 1),)\n",
      "283 YResolution ((72, 1),)\n",
      "296 ResolutionUnit (2,)\n",
      "50735 CameraSerialNumber ('0E19A0Z16D19',)\n",
      "305 Software ('Seek Thermal 2.3.0 SDK 1.9.8.11 HW HW: v0 TH: v5 TLID: -1',)\n",
      "306 DateTime ('2024:03:12 11:47:29',)\n",
      "316 HostComputer ('SM-A217F, Android 12',)\n",
      "318 WhitePoint ((3127, 10000), (3290, 10000))\n",
      "319 PrimaryChromaticities ((640, 1000), (330, 1000), (300, 1000), (600, 1000), (150, 1000), (60, 1000))\n"
     ]
    }
   ],
   "source": [
    "for i in list(bw_thermal.tag):\n",
    "    print(i, ExifTags.TAGS[i],tiff_img.tag[i])\n",
    "# min_max_norm = lambda x: (x - np.min(x)) / (np.max(x) - np.min(x))"
   ]
  },
  {
   "cell_type": "code",
   "execution_count": 9,
   "metadata": {},
   "outputs": [
    {
     "data": {
      "text/plain": [
       "('R', 'G', 'B', 'A')"
      ]
     },
     "execution_count": 9,
     "metadata": {},
     "output_type": "execute_result"
    }
   ],
   "source": [
    "tiff_img.getbands()"
   ]
  },
  {
   "cell_type": "code",
   "execution_count": null,
   "metadata": {},
   "outputs": [],
   "source": [
    "norm_tiff_img  = min_max_norm(tiff_img)"
   ]
  },
  {
   "cell_type": "code",
   "execution_count": null,
   "metadata": {},
   "outputs": [],
   "source": [
    "norm_tiff_img"
   ]
  },
  {
   "cell_type": "code",
   "execution_count": null,
   "metadata": {},
   "outputs": [],
   "source": [
    "plt.imshow(img1[...,:3])"
   ]
  },
  {
   "cell_type": "code",
   "execution_count": null,
   "metadata": {},
   "outputs": [],
   "source": [
    "fig, axs = plt.subplots(1,3)\n",
    "for i in range(3):\n",
    "    axs[i].imshow(img2[...,i])\n",
    "    axs[i].axis('off')\n",
    "\n",
    "fig, axs = plt.subplots(1,4)\n",
    "for i in range(4):\n",
    "    axs[i].imshow(img1[...,i])\n",
    "    axs[i].axis('off')"
   ]
  },
  {
   "cell_type": "markdown",
   "metadata": {},
   "source": [
    "min max temperature of each image"
   ]
  },
  {
   "cell_type": "code",
   "execution_count": null,
   "metadata": {},
   "outputs": [],
   "source": [
    "with open('../config.yaml','r') as f:\n",
    "    config = yaml.safe_load(f)\n",
    "    \n",
    "img_paths = sorted(glob.glob(config['dataset']['images']+'/img_thermal_*'))\n",
    "    "
   ]
  },
  {
   "cell_type": "code",
   "execution_count": null,
   "metadata": {},
   "outputs": [],
   "source": [
    "temp_annot_df = pd.read_csv(list(glob.glob('../../../dataset/*.csv'))[0]).drop('Unnamed: 0', axis=1)\n",
    "temp_annot_df.image_name = temp_annot_df.image_name.apply(lambda x: x.rstrip('.jpg'))\n",
    "temp_annot_df.set_index(keys='image_name', inplace=True, drop=True)\n",
    "temp_annot_df['image_path'] = img_paths\n",
    "\n",
    "def create_temp_to_color_mapping(image_path):\n",
    "    img = utils.rotate_to_vertical(image_path)\n",
    "    spectrum, c_img = utils.extract_image_and_spectrum(img)\n",
    "    idx = os.path.basename(image_path).rstrip('.jpg')\n",
    "    min, max = temp_annot_df.loc[idx][['low_temperature', 'high_temperature']]\n",
    "    print(idx, min, max)"
   ]
  },
  {
   "cell_type": "markdown",
   "metadata": {},
   "source": [
    "read config and images"
   ]
  },
  {
   "cell_type": "code",
   "execution_count": null,
   "metadata": {},
   "outputs": [],
   "source": [
    "class ArrayKey:\n",
    "    def __init__(self, array):\n",
    "        self.array = array\n",
    "\n",
    "    def __hash__(self):\n",
    "        return hash(tuple(self.array))\n",
    "\n",
    "    def __eq__(self, other):\n",
    "        return np.array_equal(self.array, other.array)"
   ]
  },
  {
   "cell_type": "code",
   "execution_count": null,
   "metadata": {},
   "outputs": [],
   "source": [
    "# plt.imshow(spectrum)\n",
    "obj = temp_annot_df.iloc[0]\n",
    "color_bar, c_img = utils.extract_image_and_spectrum(utils.rotate_to_vertical(obj['image_path']))\n",
    "# color_bar_normalized = color_bar / 255.0 if color_bar.max() > 1 else color_bar\n",
    "# norm_img = c_img / 255.0 if c_img.max() > 1 else c_img\n",
    "unique_colors = np.unique(color_bar[:,26], axis=0)\n",
    "temperatures = np.linspace(obj['high_temperature'], obj['low_temperature'], num=len(color_bar[:,0]))\n",
    "lut = {tuple(color): temp for color, temp in zip(unique_colors, temperatures)}\n",
    "# lut = {}"
   ]
  },
  {
   "cell_type": "code",
   "execution_count": null,
   "metadata": {},
   "outputs": [],
   "source": [
    "unique_lens = [(i, len(np.unique(color_bar[:, i], axis=0))) for i in range(color_bar.shape[1])]"
   ]
  },
  {
   "cell_type": "code",
   "execution_count": null,
   "metadata": {},
   "outputs": [],
   "source": [
    "plt.imshow(c_img)"
   ]
  },
  {
   "cell_type": "code",
   "execution_count": null,
   "metadata": {},
   "outputs": [],
   "source": [
    "np.unique(c_img.reshape(-1, 3), axis=0)[1]"
   ]
  },
  {
   "cell_type": "code",
   "execution_count": null,
   "metadata": {},
   "outputs": [],
   "source": [
    "color_bar[5,:]"
   ]
  },
  {
   "cell_type": "code",
   "execution_count": null,
   "metadata": {},
   "outputs": [],
   "source": [
    "plt.imshow(color_bar[5,:])"
   ]
  },
  {
   "cell_type": "code",
   "execution_count": null,
   "metadata": {},
   "outputs": [],
   "source": [
    "# len(lut)\n",
    "\n",
    "unique_lens"
   ]
  },
  {
   "cell_type": "code",
   "execution_count": null,
   "metadata": {},
   "outputs": [],
   "source": [
    "lut"
   ]
  },
  {
   "cell_type": "code",
   "execution_count": null,
   "metadata": {},
   "outputs": [],
   "source": [
    "temp_img = np.zeros_like(c_img)[...,0]\n",
    "for x in range(temp_img.shape[0]):\n",
    "    for y in range(temp_img.shape[1]):\n",
    "        temp_img[x,y] = lut[tuple(c_img[x,y])]"
   ]
  },
  {
   "cell_type": "code",
   "execution_count": null,
   "metadata": {},
   "outputs": [],
   "source": [
    "np.array(list(lut.keys())[1])"
   ]
  },
  {
   "cell_type": "code",
   "execution_count": null,
   "metadata": {},
   "outputs": [],
   "source": [
    "plt.imshow(color_bar_normalized)"
   ]
  },
  {
   "cell_type": "code",
   "execution_count": null,
   "metadata": {},
   "outputs": [],
   "source": [
    "# list(lut.keys())[2].array\n",
    "# list(lut.keys())[0] == ArrayKey(color_bar_normalized[-1,0])\n",
    "# plt.imshow(color_bar_normalized[-1,0][None, None, :])\n"
   ]
  },
  {
   "cell_type": "code",
   "execution_count": null,
   "metadata": {},
   "outputs": [],
   "source": []
  },
  {
   "cell_type": "code",
   "execution_count": null,
   "metadata": {},
   "outputs": [],
   "source": [
    "plt.imshow(img)"
   ]
  },
  {
   "cell_type": "code",
   "execution_count": null,
   "metadata": {},
   "outputs": [],
   "source": [
    "img = utils.rotate_to_vertical(img_paths[3])\n",
    "spectrum, cropped_image = utils.extract_image_and_spectrum(image=img)\n",
    "\n",
    "normalize_image = lambda x: (x - x.mean(axis=(0, 1), keepdims=True)) / x.std(axis=(0, 1), keepdims=True)"
   ]
  },
  {
   "cell_type": "markdown",
   "metadata": {},
   "source": [
    "plot channels and normalized image"
   ]
  },
  {
   "cell_type": "code",
   "execution_count": null,
   "metadata": {},
   "outputs": [],
   "source": [
    "n_img = normalize_image(x=cropped_image)\n",
    "\n",
    "fig, axs = plt.subplots(2,4)\n",
    "\n",
    "axs[0][0].imshow(cropped_image)\n",
    "axs[0][0].axis('off')\n",
    "\n",
    "for i in range(1,4):\n",
    "    axs[0][i].imshow(cropped_image[...,i-1])\n",
    "    axs[0][i].axis('off')\n",
    "\n",
    "axs[1][0].imshow(n_img)\n",
    "axs[1][0].axis('off')\n",
    "for i in range(1,4):\n",
    "    axs[1][i].imshow(n_img[...,i-1])\n",
    "    axs[1][i].axis('off')\n",
    "\n",
    "# plt.imshow(cropped_image)\n",
    "plt.show()"
   ]
  },
  {
   "cell_type": "markdown",
   "metadata": {},
   "source": [
    "Thresholding"
   ]
  },
  {
   "cell_type": "code",
   "execution_count": null,
   "metadata": {},
   "outputs": [],
   "source": [
    "D = 2\n",
    "ret, thresh1 = cv2.threshold(cropped_image[...,0], 255 // D, 255, cv2.THRESH_BINARY)\n",
    "ret, thresh2 = cv2.threshold(cropped_image[...,1], 255 // D, 255, cv2.THRESH_BINARY)\n",
    "ret, thresh3 = cv2.threshold(cropped_image[...,2], 255 // D, 255, cv2.THRESH_BINARY)\n",
    "fig, (ax1, ax2, ax3, ax4) = plt.subplots(1,4, figsize=(4*2,1*3))\n",
    "\n",
    "for ax in (ax1, ax2, ax3, ax4):\n",
    "    ax.axis('off')\n",
    "\n",
    "ax1.imshow(thresh1)\n",
    "ax2.imshow(thresh2)\n",
    "ax3.imshow(thresh3)\n",
    "ax4.imshow(cropped_image)\n",
    "plt.show()\n",
    "# plt.imshow(thresh)"
   ]
  },
  {
   "cell_type": "markdown",
   "metadata": {},
   "source": [
    "### Different color maps"
   ]
  },
  {
   "cell_type": "code",
   "execution_count": null,
   "metadata": {},
   "outputs": [],
   "source": [
    "spectrum, c_img = utils.extract_image_and_spectrum(utils.rotate_to_vertical(img_paths[0]))\n",
    "\n",
    "fig, (ax1, ax2, ax3, ax4) = plt.subplots(1,4)\n",
    "\n",
    "for ax in (ax1, ax2, ax3, ax4):\n",
    "    ax.axis('off')\n",
    "\n",
    "cmap_img = cv2.applyColorMap(c_img, colormap=cv2.COLORMAP_RAINBOW)\n",
    "n_img = normalize_image(cmap_img)\n",
    "ax1.imshow(cmap_img[...,0])\n",
    "ax2.imshow(cmap_img[...,1])\n",
    "ax3.imshow(cmap_img[...,2])\n",
    "ax4.imshow(cmap_img)\n",
    "plt.show()"
   ]
  },
  {
   "cell_type": "markdown",
   "metadata": {},
   "source": [
    "### Grabcut test"
   ]
  },
  {
   "cell_type": "code",
   "execution_count": null,
   "metadata": {},
   "outputs": [],
   "source": [
    "grayscale_img = cv2.cvtColor(cmap_img, cv2.COLOR_RGB2GRAY)\n",
    "plt.imshow(grayscale_img)\n",
    "plt.axis('off')\n",
    "# max_idx = int(contour_areas.iloc[contour_areas.area.argmax()]['index'])"
   ]
  },
  {
   "cell_type": "code",
   "execution_count": null,
   "metadata": {},
   "outputs": [],
   "source": [
    "color_convs = {\n",
    "    'HLS':cv2.COLOR_RGB2HLS, \n",
    "    'HSV': cv2.COLOR_RGB2HSV, \n",
    "    'LAB':cv2.COLOR_RGB2LAB, \n",
    "    'LUV': cv2.COLOR_RGB2LUV, \n",
    "    'YUV': cv2.COLOR_RGB2YUV\n",
    "}"
   ]
  },
  {
   "cell_type": "markdown",
   "metadata": {},
   "source": [
    "### Contours from image (histogram equalization, CLAHE)"
   ]
  },
  {
   "cell_type": "code",
   "execution_count": null,
   "metadata": {},
   "outputs": [],
   "source": [
    "def get_simple_contours(image_path, apply_ce=False, apply_blur=False, apply_clahe=False):\n",
    "    _, c_img = utils.extract_image_and_spectrum(utils.rotate_to_vertical(image_path))\n",
    "    og_img = c_img\n",
    "    c_img = cv2.cvtColor(c_img, cv2.COLOR_RGB2GRAY)\n",
    "    \n",
    "    if apply_clahe:\n",
    "        clahe = cv2.createCLAHE(clipLimit=2.0, tileGridSize=(32,32))\n",
    "        c_img = clahe.apply(c_img)\n",
    "    \n",
    "    if apply_ce:\n",
    "        # Convert image to grayscale and apply histogram equalization\n",
    "        c_img = cv2.equalizeHist(c_img)\n",
    "        \n",
    "    if apply_blur:\n",
    "        c_img = cv2.GaussianBlur(c_img, (51, 51), 15)\n",
    "    \n",
    "    _, thresholded_image = cv2.threshold(c_img, 200, 255, cv2.THRESH_BINARY)\n",
    "    contours, _ = cv2.findContours(thresholded_image.astype(np.uint8), cv2.RETR_TREE, cv2.CHAIN_APPROX_SIMPLE)\n",
    "    new_contours = [np.squeeze(c, axis=1) for c in contours]\n",
    "\n",
    "    contour_areas = pd.DataFrame([(int(i), cv2.contourArea(c)) for i, c in enumerate(contours)])\n",
    "    contour_areas.columns = ['index','area']\n",
    "    contour_areas.sort_values('area',ascending=False, inplace=True)\n",
    "    contour_areas['index'] = contour_areas['index'].astype(int)\n",
    "    \n",
    "    return contour_areas, new_contours, c_img, og_img, thresholded_image"
   ]
  },
  {
   "cell_type": "code",
   "execution_count": null,
   "metadata": {},
   "outputs": [],
   "source": [
    "contour_areas, new_contours, c_img, og_img, thresholded_image = get_simple_contours(image_path=img_paths[0], apply_ce=False, apply_clahe=False)"
   ]
  },
  {
   "cell_type": "code",
   "execution_count": null,
   "metadata": {},
   "outputs": [],
   "source": [
    "fig, (ax1, ax2, ax3) = plt.subplots(1,3)\n",
    "for i, a in enumerate((ax1, ax2, ax3)):\n",
    "    a.imshow(cmap_img[..., i])\n",
    "    a.axis('off')\n"
   ]
  },
  {
   "cell_type": "code",
   "execution_count": null,
   "metadata": {},
   "outputs": [],
   "source": [
    "_, axs = plt.subplots(1,3)\n",
    "for i in range(3):\n",
    "    # axs[i].imshow(og_img[...,i])\n",
    "    axs[i].imshow(cmap_img[...,i])\n",
    "    axs[i].axis('off')\n",
    "plt.title('ORIGINAL')\n",
    "    \n",
    "for color, color_conv in color_convs.items():\n",
    "    # cvt_img = cv2.cvtColor(og_img, color_conv)\n",
    "    cvt_img = cv2.cvtColor(cmap_img, color_conv)\n",
    "    _, axs = plt.subplots(1,3)\n",
    "    for i in range(3):\n",
    "        axs[i].imshow(cvt_img[...,i])\n",
    "        axs[i].axis('off')\n",
    "    plt.title(color)"
   ]
  },
  {
   "cell_type": "code",
   "execution_count": null,
   "metadata": {},
   "outputs": [],
   "source": [
    "cvt_img = cv2.cvtColor(cmap_img, cv2.COLOR_RGB2YUV)\n",
    "# cvt_img = cv2.cvtColor(og_img, cv2.COLOR_RGB2YUV)\n",
    "fig, (ax1, ax2) = plt.subplots(1,2)\n",
    "for a in (ax1, ax2):\n",
    "    a.axis('off')\n",
    "    \n",
    "ax1.imshow(cmap_img)\n",
    "if cvt_img.shape[-1] in (1,3):\n",
    "    ax2.imshow(cvt_img)\n",
    "\n",
    "fig, (ax1, ax2, ax3) = plt.subplots(1,3)\n",
    "for a in (ax1, ax2, ax3):\n",
    "    a.axis('off')\n",
    "    \n",
    "ax1.imshow(cmap_img[...,0])\n",
    "ax2.imshow(cmap_img[...,1])\n",
    "ax3.imshow(cmap_img[...,2])\n",
    "\n",
    "fig, axs = plt.subplots(1,cvt_img.shape[-1])\n",
    "for i in range(cvt_img.shape[-1]):\n",
    "    axs[i].axis('off')\n",
    "    axs[i].imshow(cvt_img[...,i])\n",
    "    \n",
    "plt.show()"
   ]
  },
  {
   "cell_type": "code",
   "execution_count": null,
   "metadata": {},
   "outputs": [],
   "source": [
    "def sigmoid(x):\n",
    "    return 1 / (1 + np.exp(-x))\n",
    "\n",
    "def np_norm(x):\n",
    "    return (x - x.mean()) / x.std()"
   ]
  },
  {
   "cell_type": "code",
   "execution_count": null,
   "metadata": {},
   "outputs": [],
   "source": [
    "_, (ax1, ax2) = plt.subplots(1,2)\n",
    "enhanced_img = cv2.convertScaleAbs(cmap_img[...,1], alpha=2,beta=-40)\n",
    "ax1.imshow(enhanced_img)\n",
    "ax1.axis('off')\n",
    "ax2.imshow(cmap_img[...,1])\n",
    "ax2.axis('off')\n",
    "plt.show()"
   ]
  },
  {
   "cell_type": "code",
   "execution_count": null,
   "metadata": {},
   "outputs": [],
   "source": [
    "thresh, binary_image = cv2.threshold(enhanced_img, 200, 255, cv2.THRESH_BINARY)\n",
    "plt.imshow(binary_image)"
   ]
  },
  {
   "cell_type": "code",
   "execution_count": null,
   "metadata": {},
   "outputs": [],
   "source": [
    "# EROSION/DILATION\n",
    "kernel = cv2.getStructuringElement(cv2.MORPH_ELLIPSE, (5, 5))  # Adjust kernel size as needed\n",
    "img_dilate = cv2.dilate(enhanced_img, kernel, iterations=2)\n",
    "plt.imshow(img_dilate)\n",
    "plt.show()\n",
    "thresh, dilated_binary_image = cv2.threshold(img_dilate, 190, 255, cv2.THRESH_BINARY)\n",
    "plt.imshow(dilated_binary_image)"
   ]
  },
  {
   "cell_type": "code",
   "execution_count": null,
   "metadata": {},
   "outputs": [],
   "source": [
    "# OPENING OPENCV\n",
    "\n",
    "kernel = cv2.getStructuringElement(cv2.MORPH_ELLIPSE, (51, 51))  # Adjust kernel size as needed\n",
    "opened = cv2.morphologyEx(dilated_binary_image, cv2.MORPH_OPEN, kernel)\n",
    "\n",
    "plt.imshow(opened)"
   ]
  },
  {
   "cell_type": "code",
   "execution_count": null,
   "metadata": {},
   "outputs": [],
   "source": [
    "contours, _ = cv2.findContours(dilated_binary_image.astype(np.uint8), cv2.RETR_TREE, cv2.CHAIN_APPROX_SIMPLE)\n",
    "new_contours = [np.squeeze(c, axis=1) for c in contours]\n",
    "\n",
    "contour_areas = pd.DataFrame([(int(i), cv2.contourArea(c)) for i, c in enumerate(contours)])\n",
    "contour_areas.columns = ['index', 'area']\n",
    "contour_areas.sort_values('area', ascending=False, inplace=True)\n",
    "contour_areas['index'] = contour_areas['index'].astype(int)\n",
    "empty_img = np.zeros_like(dilated_binary_image)\n",
    "plt.imshow(dilated_binary_image)\n",
    "\n",
    "colors = ['green','blue','red','pink','yellow']\n",
    "\n",
    "for idx, row in enumerate(contour_areas.iloc[:2].values):\n",
    "    # rles = M.frPyObjects(new_contours[int(row[0])], h=opened.shape[0], w=opened.shape[1])\n",
    "    # rle = M.merge(rles)\n",
    "    # mask = M.decode(rle)\n",
    "    bbox = cv2.boundingRect(new_contours[int(row[0])])\n",
    "    plt.gca().add_patch(patches.Rectangle((bbox[0]-10, bbox[1]-10), bbox[2]+20, bbox[3]+20, facecolor='none', edgecolor='red'))\n",
    "    # plt.gca().add_patch(patches.Polygon(new_contours[int(row[0])], closed=True, facecolor=colors[idx], edgecolor='white'))\n",
    "plt.show()"
   ]
  },
  {
   "cell_type": "markdown",
   "metadata": {},
   "source": [
    "### K-Means clustering"
   ]
  },
  {
   "cell_type": "code",
   "execution_count": null,
   "metadata": {},
   "outputs": [],
   "source": [
    "from sklearn.cluster import KMeans\n",
    "\n",
    "km = KMeans(n_clusters=2, random_state=0)\n",
    "km.fit(enhanced_img.reshape(-1, 1))"
   ]
  },
  {
   "cell_type": "code",
   "execution_count": null,
   "metadata": {},
   "outputs": [],
   "source": [
    "plt.imshow(km.labels_.reshape(*enhanced_img.shape))"
   ]
  },
  {
   "cell_type": "markdown",
   "metadata": {},
   "source": [
    "### Contours from edges"
   ]
  },
  {
   "cell_type": "code",
   "execution_count": null,
   "metadata": {},
   "outputs": [],
   "source": [
    "def get_edge_contours(image_path, apply_ce=False, apply_blur=False, apply_clahe=False):\n",
    "    _, c_img = utils.extract_image_and_spectrum(utils.rotate_to_vertical(image_path))\n",
    "    og_img = c_img\n",
    "    if apply_ce:\n",
    "        # Convert image to grayscale and apply histogram equalization\n",
    "        c_img = cv2.equalizeHist(cv2.cvtColor(c_img, cv2.COLOR_RGB2GRAY))\n",
    "    else:\n",
    "        # Ensure the image is in grayscale if CE isn't applied\n",
    "        c_img = cv2.cvtColor(c_img, cv2.COLOR_RGB2GRAY)\n",
    "    \n",
    "    if apply_clahe:\n",
    "        clahe = cv2.createCLAHE(clipLimit=2.0, tileGridSize=(8,8))\n",
    "        c_img = clahe.apply(c_img)\n",
    "\n",
    "    \n",
    "    if apply_blur:\n",
    "        c_img = cv2.GaussianBlur(c_img, (51, 51), 15)\n",
    "    \n",
    "    # Apply Canny edge detection\n",
    "    edges = cv2.Canny(c_img, 50, 50)  # Adjust thresholds as needed\n",
    "\n",
    "    # Find contours based on edges\n",
    "    contours, _ = cv2.findContours(edges.astype(np.uint8), cv2.RETR_TREE, cv2.CHAIN_APPROX_SIMPLE)\n",
    "    new_contours = [np.squeeze(c, axis=1) for c in contours]\n",
    "\n",
    "    contour_areas = pd.DataFrame([(int(i), cv2.contourArea(c)) for i, c in enumerate(contours)])\n",
    "    contour_areas.columns = ['index', 'area']\n",
    "    contour_areas.sort_values('area', ascending=False, inplace=True)\n",
    "    contour_areas['index'] = contour_areas['index'].astype(int)\n",
    "    \n",
    "    return contour_areas, new_contours, c_img, edges\n"
   ]
  },
  {
   "cell_type": "code",
   "execution_count": null,
   "metadata": {},
   "outputs": [],
   "source": [
    "contour_areas, new_contours, c_img, edges = get_edge_contours(image_path=img_paths[0], apply_ce=False, apply_clahe=True)\n",
    "\n",
    "_, (ax1, ax2) = plt.subplots(1,2)\n",
    "ax1.imshow(c_img)\n",
    "ax2.imshow(edges)\n",
    "plt.show()"
   ]
  },
  {
   "cell_type": "code",
   "execution_count": null,
   "metadata": {},
   "outputs": [],
   "source": [
    "# max_idx = max(enumerate(contours), key=lambda x: cv2.contourArea(x[1]))[0]\n",
    "empty_img = np.zeros_like(thresholded_image)\n",
    "plt.imshow(empty_img)\n",
    "\n",
    "colors = ['green','blue','red','pink','yellow']\n",
    "\n",
    "for idx, row in enumerate(contour_areas.iloc[:1].values):\n",
    "    plt.gca().add_patch(patches.Polygon(new_contours[int(row[0])], closed=True, facecolor=colors[idx], edgecolor='white'))\n",
    "plt.show()"
   ]
  },
  {
   "cell_type": "code",
   "execution_count": null,
   "metadata": {},
   "outputs": [],
   "source": []
  }
 ],
 "metadata": {
  "kernelspec": {
   "display_name": "thermal_cam",
   "language": "python",
   "name": "python3"
  },
  "language_info": {
   "codemirror_mode": {
    "name": "ipython",
    "version": 3
   },
   "file_extension": ".py",
   "mimetype": "text/x-python",
   "name": "python",
   "nbconvert_exporter": "python",
   "pygments_lexer": "ipython3",
   "version": "3.9.0"
  }
 },
 "nbformat": 4,
 "nbformat_minor": 2
}
