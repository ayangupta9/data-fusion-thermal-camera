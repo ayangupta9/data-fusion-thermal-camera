{
 "cells": [
  {
   "cell_type": "markdown",
   "metadata": {},
   "source": [
    "### Steps for ROI Extraction\n",
    "We will start with adjusting the color space\n",
    "From some EDA, I have found LAB, LUV and YUV colors spaces to be useful for ROI extraction task\n",
    "\n",
    "Here's the current pipeline\n",
    "- Convert RGB image into another color space (possibly LAB)\n",
    "- Extract L channel and apply enhancement using `convertScaleAbs` function from cv2 [alpha = 2.0, beta=-50]\n",
    "- Dilate image to increase ROI area\n",
    "- Apply binary threshold on the image with threshold value of 200\n",
    "- Applying `findContours` on the thresholded image\n",
    "- Fetch each contours area and sort in descending order.\n",
    "- Pick highest contour area objects and create bounding boxes using `boundingRect`\n",
    "- These will be used as ROIs for extraction of hot liquid\n",
    "\n",
    "- Need to apply some kind of technique to identify how many objects are there in the frame. \n",
    "    - Also, how do we know the ROI is actually a coffee mug or glass or something else.\n",
    "        Template Matching, or maybe some other technique. \n",
    "            Some kind of edge detection\n"
   ]
  },
  {
   "cell_type": "code",
   "execution_count": null,
   "metadata": {},
   "outputs": [],
   "source": []
  }
 ],
 "metadata": {
  "language_info": {
   "name": "python"
  }
 },
 "nbformat": 4,
 "nbformat_minor": 2
}
